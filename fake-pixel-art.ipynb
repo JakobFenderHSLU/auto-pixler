{
 "cells": [
  {
   "cell_type": "code",
   "id": "initial_id",
   "metadata": {
    "collapsed": true
   },
   "source": [
    "import math\n",
    "\n",
    "import matplotlib.pyplot as pl\n",
    "import cv2\n",
    "import numpy as np\n",
    "import seaborn as sns\n",
    "\n",
    "from sklearn.cluster import KMeans\n",
    "\n",
    "\n",
    "# https://www.imdb.com/title/tt9433398/"
   ],
   "outputs": [],
   "execution_count": null
  },
  {
   "cell_type": "code",
   "source": [
    "color_palette_2 = [\n",
    "    [0, 0, 0],\n",
    "    [128, 128, 128],\n",
    "    [255, 255, 255],\n",
    "]\n",
    "\n",
    "\n",
    "def print_color_palette(color_palette):\n",
    "    def rgb_to_hex(rgb):\n",
    "        return '#%02x%02x%02x' % (rgb[0], rgb[1], rgb[2])\n",
    "\n",
    "    color_palette = [rgb_to_hex(color) for color in color_palette]\n",
    "    sns.palplot(sns.color_palette(color_palette))\n",
    "    sns.color_palette()\n",
    "\n",
    "\n",
    "print_color_palette(color_palette_2)"
   ],
   "metadata": {
    "collapsed": false
   },
   "id": "8f70d6c2a503628e",
   "outputs": [],
   "execution_count": null
  },
  {
   "cell_type": "markdown",
   "source": [
    "# Color Quantisation (Even Pallet)"
   ],
   "metadata": {
    "collapsed": false
   },
   "id": "7419432cd4947b9"
  },
  {
   "cell_type": "code",
   "source": [
    "img_pepper = cv2.cvtColor(cv2.imread('img/example/Pepper.jpg'), cv2.COLOR_BGR2RGB)\n",
    "img_pepper_grey = cv2.cvtColor(img_pepper, cv2.COLOR_RGB2GRAY)\n",
    "\n",
    "subplot = pl.subplot(1, 2, 1)\n",
    "subplot.imshow(img_pepper)\n",
    "subplot = pl.subplot(1, 2, 2)\n",
    "subplot.imshow(img_pepper_grey, cmap='gray')"
   ],
   "metadata": {
    "collapsed": false
   },
   "id": "f62076353dba2a73",
   "outputs": [],
   "execution_count": null
  },
  {
   "cell_type": "code",
   "source": [
    "def quantize_grey_image(img, n_colors=4):\n",
    "    palette = np.linspace(0, 255, n_colors).astype(np.uint8)\n",
    "    ret_img = np.zeros_like(img).astype(np.uint8)\n",
    "    for i in range(n_colors):\n",
    "        ret_img[img >= palette[i]] = palette[i]\n",
    "    return ret_img, palette\n",
    "\n",
    "\n",
    "def quantize_color_image(img, n_colors=4):\n",
    "    palette = []\n",
    "    for i in range(n_colors):\n",
    "        for j in range(n_colors):\n",
    "            for k in range(n_colors):\n",
    "                palette.append([i * 255 // (n_colors - 1), j * 255 // (n_colors - 1), k * 255 // (n_colors - 1)])\n",
    "    palette = np.array(palette).astype(np.uint8)\n",
    "\n",
    "    ret_img = np.zeros_like(img).astype(np.uint8)\n",
    "    for i in range(n_colors ** 3):\n",
    "        ret_img[np.all(img >= palette[i], axis=-1)] = palette[i]\n",
    "    return ret_img, palette\n"
   ],
   "metadata": {
    "collapsed": false
   },
   "id": "88a49fa82babc122",
   "outputs": [],
   "execution_count": null
  },
  {
   "cell_type": "code",
   "source": [
    "q_img_pepper_grey, grey_palette = quantize_grey_image(img_pepper_grey, 5)\n",
    "q_img_pepper, color_palette = quantize_color_image(img_pepper, 5)\n",
    "\n",
    "subplot = pl.subplot(2, 2, 1)\n",
    "subplot.imshow(img_pepper_grey, cmap='gray')\n",
    "subplot = pl.subplot(2, 2, 2)\n",
    "subplot.imshow(q_img_pepper_grey, cmap='gray')\n",
    "subplot = pl.subplot(2, 2, 3)\n",
    "subplot.imshow(img_pepper)\n",
    "subplot = pl.subplot(2, 2, 4)\n",
    "subplot.imshow(q_img_pepper)"
   ],
   "metadata": {
    "collapsed": false
   },
   "id": "38f30f8336221403",
   "outputs": [],
   "execution_count": null
  },
  {
   "cell_type": "code",
   "source": [
    "print(grey_palette)\n",
    "grey_palette_rgb = [[col, col, col] for col in grey_palette]\n",
    "\n",
    "print_color_palette(grey_palette_rgb)\n",
    "len(grey_palette_rgb)"
   ],
   "metadata": {
    "collapsed": false
   },
   "id": "eddde3d8fe4d6cb0",
   "outputs": [],
   "execution_count": null
  },
  {
   "cell_type": "code",
   "source": [
    "# print_color_palette(color_palette)\n",
    "len(color_palette)"
   ],
   "metadata": {
    "collapsed": false
   },
   "id": "dec3ef5f7ff90de2",
   "outputs": [],
   "execution_count": null
  },
  {
   "cell_type": "markdown",
   "source": [
    "# Color Quantisation (Unique Pallet)"
   ],
   "metadata": {
    "collapsed": false
   },
   "id": "793a132dd2d3da59"
  },
  {
   "cell_type": "code",
   "source": [
    "img_pepper = cv2.cvtColor(cv2.imread('img/example/Pepper.jpg'), cv2.COLOR_BGR2RGB)\n",
    "img_pepper_grey = cv2.cvtColor(img_pepper, cv2.COLOR_RGB2GRAY)\n",
    "\n",
    "subplot = pl.subplot(1, 2, 1)\n",
    "subplot.imshow(img_pepper)\n",
    "subplot = pl.subplot(1, 2, 2)\n",
    "subplot.imshow(img_pepper_grey, cmap='gray')"
   ],
   "metadata": {
    "collapsed": false
   },
   "id": "c3e4044603b906f0",
   "outputs": [],
   "execution_count": null
  },
  {
   "cell_type": "code",
   "source": [
    "def quantize_color_image_unique(img, n_colors=4):\n",
    "    img = img.copy()\n",
    "    kmeans = KMeans(n_clusters=n_colors)\n",
    "    kmeans.fit(img.reshape(-1, 3))\n",
    "    palette = kmeans.cluster_centers_.astype(np.uint8)\n",
    "\n",
    "    ret_img = palette[kmeans.labels_].reshape(img.shape).astype(np.uint8)\n",
    "    return ret_img, palette"
   ],
   "metadata": {
    "collapsed": false
   },
   "id": "a8aae1db73a3737a",
   "outputs": [],
   "execution_count": null
  },
  {
   "cell_type": "code",
   "source": [
    "img_pepper_unique, color_palette_unique = quantize_color_image_unique(img_pepper, 5)\n",
    "\n",
    "subplot = pl.subplot(1, 2, 1)\n",
    "subplot.imshow(img_pepper)\n",
    "subplot = pl.subplot(1, 2, 2)\n",
    "subplot.imshow(img_pepper_unique)"
   ],
   "metadata": {
    "collapsed": false
   },
   "id": "5c37e1e3566021b0",
   "outputs": [],
   "execution_count": null
  },
  {
   "cell_type": "code",
   "source": [
    "print_color_palette(sorted(color_palette_unique.tolist()))"
   ],
   "metadata": {
    "collapsed": false
   },
   "id": "5ed8bfe7b3e6b9a0",
   "outputs": [],
   "execution_count": null
  },
  {
   "cell_type": "markdown",
   "source": [
    "# Ordered Dithering (Gray)"
   ],
   "metadata": {
    "collapsed": false
   },
   "id": "db5d5ff58577ea07"
  },
  {
   "cell_type": "code",
   "source": [
    "img_pepper = cv2.cvtColor(cv2.imread('img/example/Pepper.jpg'), cv2.COLOR_BGR2RGB)\n",
    "img_pepper_grey = cv2.cvtColor(img_pepper, cv2.COLOR_RGB2GRAY)\n",
    "\n",
    "subplot = pl.subplot(1, 2, 1)\n",
    "subplot.imshow(img_pepper)\n",
    "subplot = pl.subplot(1, 2, 2)\n",
    "subplot.imshow(img_pepper_grey, cmap='gray')"
   ],
   "metadata": {
    "collapsed": false
   },
   "id": "97d911d7a0a627f2",
   "outputs": [],
   "execution_count": null
  },
  {
   "cell_type": "code",
   "source": [
    "def dither_matrix(n: int):\n",
    "    if n == 1:\n",
    "        return np.array([[0]])\n",
    "    else:\n",
    "        first = (n ** 2) * dither_matrix(int(n / 2))\n",
    "        second = (n ** 2) * dither_matrix(int(n / 2)) + 2\n",
    "        third = (n ** 2) * dither_matrix(int(n / 2)) + 3\n",
    "        fourth = (n ** 2) * dither_matrix(int(n / 2)) + 1\n",
    "        first_col = np.concatenate((first, third), axis=0)\n",
    "        second_col = np.concatenate((second, fourth), axis=0)\n",
    "        return (1 / n ** 2) * np.concatenate((first_col, second_col), axis=1)\n",
    "\n",
    "\n",
    "dither_matrix(8)"
   ],
   "metadata": {
    "collapsed": false
   },
   "id": "93d2ec63cbc5d574",
   "outputs": [],
   "execution_count": null
  },
  {
   "cell_type": "code",
   "source": [
    "def ordered_dithering(img: np.array, dither_m: np.array):\n",
    "    img = img.copy() / 255\n",
    "    ret_img = np.zeros_like(img)\n",
    "    n = np.size(dither_m, axis=0)\n",
    "    for x in range(img.shape[1]):\n",
    "        for y in range(img.shape[0]):\n",
    "            i = x % n\n",
    "            j = y % n\n",
    "            if img[y][x] > dither_m[i][j]:\n",
    "                ret_img[y][x] = 255\n",
    "            else:\n",
    "                ret_img[y][x] = 0\n",
    "    return ret_img"
   ],
   "metadata": {
    "collapsed": false
   },
   "id": "de5f99c5421aa0ad",
   "outputs": [],
   "execution_count": null
  },
  {
   "cell_type": "code",
   "source": [
    "d_pepper_grey = ordered_dithering(img_pepper_grey, dither_matrix(8))\n",
    "\n",
    "d_img_pepper = np.zeros_like(img_pepper)\n",
    "for i in range(3):\n",
    "    d_img_pepper[:, :, i] = ordered_dithering(img_pepper[:, :, i], dither_matrix(8))\n",
    "\n",
    "subplot = pl.subplot(2, 2, 1)\n",
    "subplot.imshow(img_pepper_grey, cmap='gray')\n",
    "subplot = pl.subplot(2, 2, 2)\n",
    "subplot.imshow(d_pepper_grey, cmap='gray')\n",
    "subplot = pl.subplot(2, 2, 3)\n",
    "subplot.imshow(img_pepper)\n",
    "subplot = pl.subplot(2, 2, 4)\n",
    "subplot.imshow(d_img_pepper)"
   ],
   "metadata": {
    "collapsed": false
   },
   "id": "d8eb7fb51d400fd5",
   "outputs": [],
   "execution_count": null
  },
  {
   "cell_type": "code",
   "source": [
    "# export image to file\n",
    "cv2.imwrite('output/notebook/Pepper_grey_dithered.png', d_pepper_grey)\n",
    "cv2.imwrite('output/notebook/Pepper_color_dithered.png', cv2.cvtColor(d_img_pepper, cv2.COLOR_RGB2BGR))"
   ],
   "metadata": {
    "collapsed": false
   },
   "id": "ee34ee8a919d208c",
   "outputs": [],
   "execution_count": null
  },
  {
   "cell_type": "markdown",
   "source": [
    "# Making Pixel Art"
   ],
   "metadata": {
    "collapsed": false
   },
   "id": "bcbc352f5bca2f87"
  },
  {
   "cell_type": "code",
   "source": [
    "img_pepper = cv2.cvtColor(cv2.imread('img/example/Pepper.jpg'), cv2.COLOR_BGR2RGB)\n",
    "img_pepper_grey = cv2.cvtColor(img_pepper, cv2.COLOR_RGB2GRAY)\n",
    "\n",
    "subplot = pl.subplot(1, 2, 1)\n",
    "subplot.imshow(img_pepper)\n",
    "subplot = pl.subplot(1, 2, 2)\n",
    "subplot.imshow(img_pepper_grey, cmap='gray')"
   ],
   "metadata": {
    "collapsed": false
   },
   "id": "caa9053cc33eb591",
   "outputs": [],
   "execution_count": null
  },
  {
   "cell_type": "markdown",
   "source": [
    "## The Naive Approach"
   ],
   "metadata": {
    "collapsed": false
   },
   "id": "bb74bcebfbf41a0a"
  },
  {
   "cell_type": "code",
   "source": [
    "def generate_pixel_art_simple(img: np.array, dither_m: np.array, n_colors: int, downscale: int = 1):\n",
    "    img = img.copy()\n",
    "    img = cv2.resize(img, (img.shape[1] // downscale, img.shape[0] // downscale))\n",
    "    d_img = np.zeros_like(img)\n",
    "    for i in range(3):\n",
    "        d_img[:, :, i] = ordered_dithering(img[:, :, i], dither_m)\n",
    "    return d_img\n",
    "\n",
    "\n",
    "d_img_pepper = generate_pixel_art_simple(img_pepper, dither_matrix(8), 3, 8)\n",
    "\n",
    "subplot = pl.subplot(1, 2, 1)\n",
    "subplot.imshow(img_pepper)\n",
    "subplot = pl.subplot(1, 2, 2)\n",
    "subplot.imshow(d_img_pepper)"
   ],
   "metadata": {
    "collapsed": false
   },
   "id": "e14fb3da332905bc",
   "outputs": [],
   "execution_count": null
  },
  {
   "metadata": {},
   "cell_type": "code",
   "source": [
    "# export image to file\n",
    "cv2.imwrite('output/notebook/Pepper_pixel_art_simple.png', cv2.cvtColor(d_img_pepper, cv2.COLOR_RGB2BGR))"
   ],
   "id": "f992ce2d3cc5393c",
   "outputs": [],
   "execution_count": null
  },
  {
   "cell_type": "markdown",
   "source": [
    "## Dithering between Colors"
   ],
   "metadata": {
    "collapsed": false
   },
   "id": "3719f2d87ef17280"
  },
  {
   "cell_type": "code",
   "source": [
    "rel_dist_next_color = 0\n",
    "sigmoided = 1 / (1 + math.exp(-(rel_dist_next_color - 0.5) * 20))\n",
    "\n",
    "rel_dist_next_color, sigmoided"
   ],
   "metadata": {
    "collapsed": false
   },
   "id": "e8d27be495d252c0",
   "outputs": [],
   "execution_count": null
  },
  {
   "cell_type": "code",
   "source": [
    "def generate_pixel_art(img: np.array, dither_m: np.array, n_colors: int, downscale: int = 1, temperature: float = 20):\n",
    "    img = img.copy()\n",
    "    img = cv2.resize(img, (img.shape[1] // downscale, img.shape[0] // downscale))\n",
    "    q_img, palette = quantize_color_image_unique(img, n_colors)\n",
    "    sorted_palette = sorted(palette.tolist())\n",
    "    sorted_palette.reverse()\n",
    "    d_img = np.ones_like(img).astype('int')\n",
    "\n",
    "    d_img *= sorted_palette[0]\n",
    "\n",
    "    for i in range(len(sorted_palette) - 1):\n",
    "        sub_img = np.zeros_like(img)\n",
    "        current_color = sorted_palette[i]\n",
    "        next_color = sorted_palette[i + 1]\n",
    "\n",
    "        n = np.size(dither_m, axis=0)\n",
    "        for x in range(img.shape[1]):\n",
    "            for y in range(img.shape[0]):\n",
    "                i = x % n\n",
    "                j = y % n\n",
    "\n",
    "                distance_current_color = math.sqrt(sum(img[y][x] - current_color) ** 2)\n",
    "                distance_next_color = math.sqrt(sum(img[y][x] - next_color) ** 2)\n",
    "                rel_dist_next_color = distance_current_color / (distance_current_color + distance_next_color)\n",
    "                sigmoided = 1 / (1 + math.exp(-(rel_dist_next_color - 0.5) * temperature))\n",
    "\n",
    "                if sigmoided > dither_m[i][j]:\n",
    "                    sub_img[y][x] = 255\n",
    "                else:\n",
    "                    sub_img[y][x] = 0\n",
    "        # where one multiply with next color and overlay over d_img\n",
    "        d_img = np.where(sub_img == 255, next_color, d_img)\n",
    "\n",
    "    return d_img, palette\n",
    "\n",
    "\n",
    "# img_pepper_small = cv2.resize(img_pepper, (img_pepper.shape[1] // 8, img_pepper.shape[0] // 8))\n",
    "temp_img, palette = generate_pixel_art(img_pepper, dither_matrix(4), n_colors=10, downscale=10, temperature=10)\n",
    "\n",
    "pl.imshow(temp_img)"
   ],
   "metadata": {
    "collapsed": false
   },
   "id": "e23cb50fca81af17",
   "outputs": [],
   "execution_count": null
  },
  {
   "metadata": {},
   "cell_type": "code",
   "source": [
    "def generate_pixel_art_2(img: np.array, dither_m: np.array, n_colors: int, downscale: int = 1, temperature: float = 20):\n",
    "    img = cv2.resize(img, (img.shape[1] // downscale, img.shape[0] // downscale))\n",
    "    q_img, palette = quantize_color_image_unique(img, n_colors)\n",
    "    sorted_palette = sorted(palette.tolist(), reverse=True)\n",
    "    d_img = np.full_like(img, sorted_palette[0], dtype=int)\n",
    "    n = dither_m.shape[0]\n",
    "\n",
    "    # Create index grids\n",
    "    x_idx, y_idx = np.meshgrid(np.arange(img.shape[1]), np.arange(img.shape[0]))\n",
    "    dither_idx = dither_m[x_idx % n, y_idx % n]\n",
    "\n",
    "    for i in range(len(sorted_palette) - 1):\n",
    "        current_color = sorted_palette[i]\n",
    "        next_color = sorted_palette[i + 1]\n",
    "        diff = img - current_color\n",
    "        distances = np.linalg.norm(diff, axis=-1)\n",
    "        rel_distances = distances / (distances + np.linalg.norm(img - next_color, axis=-1))\n",
    "        sigmoided = 1 / (1 + np.exp(-(rel_distances - 0.5) * temperature))\n",
    "        dithered = sigmoided > dither_idx\n",
    "        d_img[dithered] = next_color\n",
    "\n",
    "    return d_img, palette\n",
    "\n",
    "\n",
    "temp_img = cv2.cvtColor(cv2.imread('img/example/holly_cap.jpg'), cv2.COLOR_BGR2RGB)\n",
    "# Example usage\n",
    "temp_img, palette = generate_pixel_art(temp_img, dither_matrix(8), n_colors=8, downscale=4, temperature=10)\n",
    "pl.imshow(temp_img)"
   ],
   "id": "7f904dfa307b50de",
   "outputs": [],
   "execution_count": null
  },
  {
   "metadata": {},
   "cell_type": "code",
   "source": [
    "params = [[8, 8, 8, 10], [8, 8, 8, 20], [4, 4, 4, 30]]\n",
    "\n",
    "for param in params:\n",
    "    temp_img_1, palette = generate_pixel_art(img_pepper, dither_matrix(param[0]), n_colors=param[1], downscale=param[2], temperature=param[3])\n",
    "    temp_img_2, palette = generate_pixel_art(img_pepper, dither_matrix(param[0]), n_colors=param[1], downscale=param[2], temperature=param[3])\n",
    "    # temp_img_1 is exactly the same as temp_img_2\n",
    "    print(np.all(temp_img_1 == temp_img_2))\n"
   ],
   "id": "8a93b08575f5df45",
   "outputs": [],
   "execution_count": null
  },
  {
   "cell_type": "code",
   "source": [
    "print_color_palette(sorted(palette.tolist()))"
   ],
   "metadata": {
    "collapsed": false
   },
   "id": "9061ffde26c9875b",
   "outputs": [],
   "execution_count": null
  },
  {
   "cell_type": "code",
   "source": [
    "# export image to file\n",
    "          cv2.imwrite('output/notebook/Pepper_pixel_art.png', cv2.cvtColor(temp_img.astype('uint8'), cv2.COLOR_RGB2BGR))"
   ],
   "metadata": {
    "collapsed": false
   },
   "id": "78d15cb9201d1518",
   "outputs": [],
   "execution_count": null
  }
 ],
 "metadata": {
  "kernelspec": {
   "display_name": "Python 3",
   "language": "python",
   "name": "python3"
  },
  "language_info": {
   "codemirror_mode": {
    "name": "ipython",
    "version": 2
   },
   "file_extension": ".py",
   "mimetype": "text/x-python",
   "name": "python",
   "nbconvert_exporter": "python",
   "pygments_lexer": "ipython2",
   "version": "2.7.6"
  }
 },
 "nbformat": 4,
 "nbformat_minor": 5
}
